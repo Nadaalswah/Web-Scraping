{
 "cells": [
  {
   "cell_type": "code",
   "execution_count": 18,
   "id": "initial_id",
   "metadata": {
    "collapsed": true,
    "ExecuteTime": {
     "end_time": "2023-12-13T19:04:52.965368100Z",
     "start_time": "2023-12-13T19:04:49.422849300Z"
    }
   },
   "outputs": [],
   "source": [
    "import pandas as pd\n",
    "from selenium import webdriver\n",
    "from selenium.webdriver.common.by import By"
   ]
  },
  {
   "cell_type": "code",
   "execution_count": 9,
   "outputs": [],
   "source": [
    "driver=webdriver.Chrome()"
   ],
   "metadata": {
    "collapsed": false,
    "ExecuteTime": {
     "end_time": "2023-12-13T18:51:41.878734200Z",
     "start_time": "2023-12-13T18:51:40.693713500Z"
    }
   },
   "id": "e947b750bcac981b"
  },
  {
   "cell_type": "code",
   "execution_count": 10,
   "outputs": [],
   "source": [
    "driver.get(\"https://www.boxofficemojo.com/chart/top_lifetime_gross/?area=XWW\")"
   ],
   "metadata": {
    "collapsed": false,
    "ExecuteTime": {
     "end_time": "2023-12-13T18:51:52.343863900Z",
     "start_time": "2023-12-13T18:51:50.149771400Z"
    }
   },
   "id": "ceddde5286a620c8"
  },
  {
   "cell_type": "code",
   "execution_count": 11,
   "outputs": [],
   "source": [
    "driver.execute_script(\"window.scrollTo(0, document.body.scrollHeight);\")"
   ],
   "metadata": {
    "collapsed": false,
    "ExecuteTime": {
     "end_time": "2023-12-13T18:52:07.088821400Z",
     "start_time": "2023-12-13T18:52:07.068367500Z"
    }
   },
   "id": "7a442c0f99055c45"
  },
  {
   "cell_type": "code",
   "execution_count": 16,
   "outputs": [],
   "source": [
    "movie_data = []\n",
    "rows = driver.find_elements(By.XPATH, \"//table[@class='a-bordered a-horizontal-stripes a-size-base a-span12 mojo-body-table mojo-table-annotated scrolling-data-table']/tbody/tr\")\n",
    "for row in rows:\n",
    "    columns = row.find_elements(By.TAG_NAME, \"td\")\n",
    "    if len(columns) >= 4:\n",
    "        rank = columns[0].text\n",
    "        title = columns[1].text\n",
    "        lifetime_gross = columns[2].text\n",
    "        release_date = columns[3].text\n",
    "        movie_data.append([rank, title, lifetime_gross, release_date])\n"
   ],
   "metadata": {
    "collapsed": false,
    "ExecuteTime": {
     "end_time": "2023-12-13T19:01:46.170920900Z",
     "start_time": "2023-12-13T19:01:33.883787Z"
    }
   },
   "id": "b002441d31f18111"
  },
  {
   "cell_type": "code",
   "execution_count": 17,
   "outputs": [
    {
     "data": {
      "text/plain": "[['1', 'Avatar', '$2,923,706,026', '2009'],\n ['2', 'Avengers: Endgame', '$2,799,439,100', '2019'],\n ['3', 'Avatar: The Way of Water', '$2,320,250,281', '2022'],\n ['4', 'Titanic', '$2,264,743,305', '1997'],\n ['5', 'Star Wars: Episode VII - The Force Awakens', '$2,071,310,218', '2015'],\n ['6', 'Avengers: Infinity War', '$2,052,415,039', '2018'],\n ['7', 'Spider-Man: No Way Home', '$1,921,847,111', '2021'],\n ['8', 'Jurassic World', '$1,671,537,444', '2015'],\n ['9', 'The Lion King', '$1,663,075,401', '2019'],\n ['10', 'The Avengers', '$1,520,538,536', '2012'],\n ['11', 'Furious 7', '$1,515,341,399', '2015'],\n ['12', 'Top Gun: Maverick', '$1,495,696,292', '2022'],\n ['13', 'Frozen II', '$1,453,683,476', '2019'],\n ['14', 'Barbie', '$1,441,808,326', '2023'],\n ['15', 'Avengers: Age of Ultron', '$1,405,018,048', '2015'],\n ['16', 'The Super Mario Bros. Movie', '$1,361,943,444', '2023'],\n ['17',\n  'Harry Potter and the Deathly Hallows: Part 2',\n  '$1,356,841,356',\n  '2011'],\n ['18', 'Black Panther', '$1,349,926,083', '2018'],\n ['19', 'Star Wars: Episode VIII - The Last Jedi', '$1,334,407,706', '2017'],\n ['20', 'Frozen', '$1,334,291,571', '2013'],\n ['21', 'Jurassic World: Fallen Kingdom', '$1,310,466,296', '2018'],\n ['22', 'Beauty and the Beast', '$1,266,115,964', '2017'],\n ['23', 'Incredibles 2', '$1,243,225,667', '2018'],\n ['24', 'The Fate of the Furious', '$1,236,005,118', '2017'],\n ['25', 'Iron Man 3', '$1,215,577,205', '2013'],\n ['26', 'Minions', '$1,159,444,662', '2015'],\n ['27',\n  'The Lord of the Rings: The Return of the King',\n  '$1,156,149,085',\n  '2003'],\n ['28', 'Captain America: Civil War', '$1,155,046,416', '2016'],\n ['29', 'Aquaman', '$1,152,028,393', '2018'],\n ['30', 'Skyfall', '$1,142,471,295', '2012'],\n ['31', 'Spider-Man: Far from Home', '$1,131,927,996', '2019'],\n ['32', 'Captain Marvel', '$1,131,416,446', '2019'],\n ['33', 'Transformers: Dark of the Moon', '$1,123,794,079', '2011'],\n ['34', 'Jurassic Park', '$1,114,429,886', '1993'],\n ['35', 'The Dark Knight Rises', '$1,114,085,030', '2012'],\n ['36', 'Transformers: Age of Extinction', '$1,104,054,072', '2014'],\n ['37', 'Joker', '$1,078,958,282', '2019'],\n ['38',\n  'Star Wars: Episode IX - The Rise of Skywalker',\n  '$1,077,022,372',\n  '2019'],\n ['39', 'Toy Story 4', '$1,073,841,394', '2019'],\n ['40', 'Toy Story 3', '$1,067,316,101', '2010'],\n ['41',\n  \"Pirates of the Caribbean: Dead Man's Chest\",\n  '$1,066,179,747',\n  '2006'],\n ['42', 'Rogue One: A Star Wars Story', '$1,058,682,142', '2016'],\n ['43', 'Aladdin', '$1,054,304,000', '2019'],\n ['44',\n  'Pirates of the Caribbean: On Stranger Tides',\n  '$1,046,721,266',\n  '2011'],\n ['45', 'Despicable Me 3', '$1,034,800,131', '2017'],\n ['46', 'Finding Dory', '$1,029,266,989', '2016'],\n ['47', 'The Dark Knight', '$1,029,266,147', '2008'],\n ['48', 'Star Wars: Episode I - The Phantom Menace', '$1,027,082,707', '1999'],\n ['49', 'Zootopia', '$1,025,521,689', '2016'],\n ['50', 'Alice in Wonderland', '$1,025,468,216', '2010'],\n ['51', \"Harry Potter and the Sorcerer's Stone\", '$1,024,264,477', '2001'],\n ['52', 'The Hobbit: An Unexpected Journey', '$1,017,030,651', '2012'],\n ['53', 'Jurassic World Dominion', '$1,001,978,080', '2022'],\n ['54', 'Jumanji: Welcome to the Jungle', '$995,339,117', '2017'],\n ['55',\n  'Harry Potter and the Deathly Hallows: Part 1',\n  '$972,584,232',\n  '2010'],\n ['56', 'Despicable Me 2', '$970,766,005', '2013'],\n ['57', 'The Lion King', '$968,511,805', '1994'],\n ['58', 'The Jungle Book', '$967,724,775', '2016'],\n ['59', 'The Hobbit: The Battle of the Five Armies', '$962,201,338', '2014'],\n ['60', \"Pirates of the Caribbean: At World's End\", '$961,691,209', '2007'],\n ['61', 'The Hobbit: The Desolation of Smaug', '$959,027,992', '2013'],\n ['62', 'Doctor Strange in the Multiverse of Madness', '$955,775,804', '2022'],\n ['63', 'Oppenheimer', '$951,227,645', '2023'],\n ['64', 'The Lord of the Rings: The Two Towers', '$948,945,489', '2002'],\n ['65', 'Finding Nemo', '$941,637,960', '2003'],\n ['66', 'Minions: The Rise of Gru', '$939,628,210', '2022'],\n ['67', 'Harry Potter and the Order of the Phoenix', '$939,288,806', '2007'],\n ['68', 'Harry Potter and the Half-Blood Prince', '$934,770,304', '2009'],\n ['69', 'Shrek 2', '$928,760,770', '2004'],\n ['70', 'Harry Potter and the Chamber of Secrets', '$926,201,000', '2002'],\n ['71', 'Bohemian Rhapsody', '$910,809,311', '2018'],\n ['72', 'The Battle at Lake Changjin', '$902,548,476', '2021'],\n ['73',\n  'The Lord of the Rings: The Fellowship of the Ring',\n  '$898,748,756',\n  '2001'],\n ['74', 'Harry Potter and the Goblet of Fire', '$897,048,648', '2005'],\n ['75', 'Spider-Man 3', '$894,983,373', '2007'],\n ['76', 'The Secret Life of Pets', '$894,328,469', '2016'],\n ['77', 'Ice Age: Dawn of the Dinosaurs', '$886,686,817', '2009'],\n ['78', 'Spectre', '$880,705,312', '2015'],\n ['79', 'Spider-Man: Homecoming', '$880,166,924', '2017'],\n ['80', 'Ice Age: Continental Drift', '$877,244,782', '2012'],\n ['81', 'Batman v Superman: Dawn of Justice', '$874,362,803', '2016'],\n ['82', 'Wolf Warrior 2', '$870,325,439', '2017'],\n ['83',\n  'Star Wars: Episode III - Revenge of the Sith',\n  '$868,390,560',\n  '2005'],\n ['84', 'The Hunger Games: Catching Fire', '$865,011,746', '2013'],\n ['85', 'Guardians of the Galaxy Vol. 2', '$863,756,051', '2017'],\n ['86', 'Black Panther: Wakanda Forever', '$859,208,836', '2022'],\n ['87', 'Inside Out', '$858,848,019', '2015'],\n ['88', 'Venom', '$856,085,151', '2018'],\n ['89', 'Thor: Ragnarok', '$855,301,806', '2017'],\n ['90', 'The Twilight Saga: Breaking Dawn - Part 2', '$848,593,948', '2012'],\n ['91', 'Guardians of the Galaxy Vol. 3', '$845,555,777', '2023'],\n ['92', 'Inception', '$839,030,630', '2010'],\n ['93', 'Transformers: Revenge of the Fallen', '$836,303,693', '2009'],\n ['94', 'Spider-Man', '$825,025,036', '2002'],\n ['95', 'Wonder Woman', '$823,970,682', '2017'],\n ['96', 'Hi, Mom', '$822,009,764', '2021'],\n ['97', 'Independence Day', '$817,400,891', '1996'],\n ['98', 'Fantastic Beasts and Where to Find Them', '$816,037,575', '2016'],\n ['99', 'Coco', '$814,337,054', '2017'],\n ['100', 'Shrek the Third', '$813,367,380', '2007'],\n ['101', 'Harry Potter and the Prisoner of Azkaban', '$807,047,946', '2004'],\n ['102', 'Jumanji: The Next Level', '$801,693,929', '2019'],\n ['103',\n  'Pirates of the Caribbean: Dead Men Tell No Tales',\n  '$795,922,298',\n  '2017'],\n ['104', 'E.T. the Extra-Terrestrial', '$792,910,554', '1982'],\n ['105', 'Mission: Impossible - Fallout', '$791,657,398', '2018'],\n ['106', '2012', '$791,217,826', '2009'],\n ['107',\n  'Indiana Jones and the Kingdom of the Crystal Skull',\n  '$790,653,942',\n  '2008'],\n ['108', 'Spider-Man 2', '$788,976,453', '2004'],\n ['109', 'Fast & Furious 6', '$788,680,968', '2013'],\n ['110', 'Deadpool 2', '$785,896,609', '2018'],\n ['111', 'Deadpool', '$782,836,791', '2016'],\n ['112', 'Star Wars: Episode IV - A New Hope', '$775,398,007', '1977'],\n ['113', 'No Time to Die', '$774,153,007', '2021'],\n ['114', 'Guardians of the Galaxy', '$773,350,147', '2014'],\n ['115', 'Gravity', '$773,031,583', '2013'],\n ['116', 'The Batman', '$772,245,583', '2022'],\n ['117', 'Thor: Love and Thunder', '$760,928,081', '2022'],\n ['118', 'Fast & Furious Presents: Hobbs & Shaw', '$760,732,926', '2019'],\n ['119', 'The Da Vinci Code', '$760,006,945', '2006'],\n ['120', 'Maleficent', '$759,853,685', '2014'],\n ['121', 'The Amazing Spider-Man', '$757,930,663', '2012'],\n ['122', 'The Hunger Games: Mockingjay - Part 1', '$755,357,103', '2014'],\n ['123', 'Shrek Forever After', '$752,600,867', '2010'],\n ['124', 'Suicide Squad', '$749,200,054', '2016'],\n ['125', \"Madagascar 3: Europe's Most Wanted\", '$746,921,274', '2012'],\n ['126', 'X-Men: Days of Future Past', '$746,045,700', '2014'],\n ['127',\n  'The Chronicles of Narnia: The Lion, the Witch and the Wardrobe',\n  '$745,013,115',\n  '2005'],\n ['128', 'Monsters University', '$743,559,645', '2013'],\n ['129', 'The Matrix Reloaded', '$741,847,937', '2003'],\n ['130', 'Up', '$735,099,102', '2009'],\n ['131', 'Interstellar', '$731,079,637', '2014'],\n ['132', 'Ne Zha', '$726,264,074', '2019'],\n ['133', 'F9: The Fast Saga', '$726,229,501', '2021'],\n ['134', 'Captain America: The Winter Soldier', '$714,421,503', '2014'],\n ['135', 'The Twilight Saga: Breaking Dawn - Part 1', '$712,205,856', '2011'],\n ['136', 'The Twilight Saga: New Moon', '$711,025,481', '2009'],\n ['137', 'Dawn of the Planet of the Apes', '$710,644,566', '2014'],\n ['138', 'Transformers', '$709,709,780', '2007'],\n ['139', 'The Amazing Spider-Man 2', '$708,982,323', '2014'],\n ['140', 'Fast X', '$704,709,660', '2023'],\n ['141', 'It', '$704,242,551', '2017'],\n ['142', 'The Wandering Earth', '$699,992,512', '2019'],\n ['143', 'The Twilight Saga: Eclipse', '$698,509,825', '2010'],\n ['144', 'The Hunger Games', '$695,220,619', '2012'],\n ['145', 'Mission: Impossible - Ghost Protocol', '$694,713,380', '2011'],\n ['146', 'Mamma Mia!', '$694,479,834', '2008'],\n ['147', 'Spider-Man: Across the Spider-Verse', '$690,516,673', '2023'],\n ['148', 'Moana', '$687,228,908', '2016'],\n ['149', 'Detective Chinatown 3', '$686,257,563', '2021'],\n ['150', 'Mission: Impossible - Rogue Nation', '$682,716,636', '2015'],\n ['151', 'Forrest Gump', '$678,226,465', '1994'],\n ['152', 'Doctor Strange', '$677,796,076', '2016'],\n ['153', 'The Sixth Sense', '$672,806,432', '1999'],\n ['154', 'Man of Steel', '$670,145,518', '2013'],\n ['155', 'Ice Age: The Meltdown', '$667,094,506', '2006'],\n ['156', 'Kung Fu Panda 2', '$665,692,281', '2011'],\n ['157', 'The Hunger Games: Mockingjay - Part 2', '$661,456,563', '2015'],\n ['158', 'Justice League', '$661,326,987', '2017'],\n ['159', 'Big Hero 6', '$657,869,686', '2014'],\n ['160',\n  'Fantastic Beasts: The Crimes of Grindelwald',\n  '$655,755,901',\n  '2018'],\n ['161',\n  'Pirates of the Caribbean: The Curse of the Black Pearl',\n  '$654,264,015',\n  '2003'],\n ['162', 'Men in Black 3', '$654,213,485', '2012'],\n ['163',\n  'Star Wars: Episode II - Attack of the Clones',\n  '$653,779,970',\n  '2002'],\n ['164', 'Thor: The Dark World', '$644,783,140', '2013'],\n ['165', 'Sing', '$634,338,384', '2016'],\n ['166', 'Kung Fu Panda', '$632,083,197', '2008'],\n ['167', 'The Incredibles', '$631,684,650', '2004'],\n ['168', 'The Martian', '$630,620,818', '2015'],\n ['169', 'Hancock', '$629,443,428', '2008'],\n ['170', 'Water Gate Bridge', '$626,571,697', '2022'],\n ['171', 'Fast Five', '$626,137,675', '2011'],\n ['172', 'Iron Man 2', '$623,933,331', '2010'],\n ['173', 'Ratatouille', '$623,726,085', '2007'],\n ['174', 'Ant-Man and the Wasp', '$622,674,139', '2018'],\n ['175', 'How to Train Your Dragon 2', '$621,537,519', '2014'],\n ['176', 'Logan', '$619,179,950', '2017'],\n ['177', 'The Lost World: Jurassic Park', '$618,638,999', '1997'],\n ['178', 'Casino Royale', '$616,505,162', '2006'],\n ['179', 'The Passion of the Christ', '$612,054,506', '2004'],\n ['180', 'Life of Pi', '$609,016,565', '2012'],\n ['181', 'Ready Player One', '$607,874,134', '2018'],\n ['182', 'Transformers: The Last Knight', '$605,425,157', '2017'],\n ['183', 'Madagascar: Escape 2 Africa', '$603,900,354', '2008'],\n ['184', 'War of the Worlds', '$603,873,119', '2005'],\n ['185', 'Tangled', '$592,462,816', '2010'],\n ['186', 'Quantum of Solace', '$589,580,482', '2008'],\n ['187', 'Men in Black', '$589,390,539', '1997'],\n ['188', 'The Croods', '$587,235,983', '2013'],\n ['189', 'The Hangover Part II', '$586,764,305', '2011'],\n ['190', 'Iron Man', '$585,796,247', '2008'],\n ['191', 'I Am Legend', '$585,410,052', '2007'],\n ['192', 'Monsters, Inc.', '$579,707,738', '2001'],\n ['193', 'Operation Red Sea', '$579,330,426', '2018'],\n ['194', 'Night at the Museum', '$574,481,229', '2006'],\n ['195', 'Fifty Shades of Grey', '$569,651,467', '2015'],\n ['196', 'The Little Mermaid', '$569,626,289', '2023'],\n ['197', 'Kong: Skull Island', '$568,652,812', '2017'],\n ['198',\n  'Mission: Impossible - Dead Reckoning Part One',\n  '$567,535,383',\n  '2023'],\n ['199', 'The Smurfs', '$563,749,323', '2011'],\n ['200', 'Cars 2', '$559,852,396', '2011']]"
     },
     "execution_count": 17,
     "metadata": {},
     "output_type": "execute_result"
    }
   ],
   "source": [
    "movie_data"
   ],
   "metadata": {
    "collapsed": false,
    "ExecuteTime": {
     "end_time": "2023-12-13T19:01:49.507397100Z",
     "start_time": "2023-12-13T19:01:49.360898200Z"
    }
   },
   "id": "3fbb3625bdc5cb2f"
  },
  {
   "cell_type": "code",
   "execution_count": 19,
   "outputs": [],
   "source": [
    "columns = [\"Rank\", \"Title\", \"Lifetime Gross\", \"Release Date\"]\n",
    "df = pd.DataFrame(movie_data, columns=columns)"
   ],
   "metadata": {
    "collapsed": false,
    "ExecuteTime": {
     "end_time": "2023-12-13T19:05:04.638617Z",
     "start_time": "2023-12-13T19:05:04.627608700Z"
    }
   },
   "id": "f93c5aa0d0de62f9"
  },
  {
   "cell_type": "code",
   "execution_count": 21,
   "outputs": [
    {
     "data": {
      "text/plain": "    Rank                                          Title  Lifetime Gross  \\\n0      1                                         Avatar  $2,923,706,026   \n1      2                              Avengers: Endgame  $2,799,439,100   \n2      3                       Avatar: The Way of Water  $2,320,250,281   \n3      4                                        Titanic  $2,264,743,305   \n4      5     Star Wars: Episode VII - The Force Awakens  $2,071,310,218   \n..   ...                                            ...             ...   \n195  196                             The Little Mermaid    $569,626,289   \n196  197                             Kong: Skull Island    $568,652,812   \n197  198  Mission: Impossible - Dead Reckoning Part One    $567,535,383   \n198  199                                     The Smurfs    $563,749,323   \n199  200                                         Cars 2    $559,852,396   \n\n    Release Date  \n0           2009  \n1           2019  \n2           2022  \n3           1997  \n4           2015  \n..           ...  \n195         2023  \n196         2017  \n197         2023  \n198         2011  \n199         2011  \n\n[200 rows x 4 columns]",
      "text/html": "<div>\n<style scoped>\n    .dataframe tbody tr th:only-of-type {\n        vertical-align: middle;\n    }\n\n    .dataframe tbody tr th {\n        vertical-align: top;\n    }\n\n    .dataframe thead th {\n        text-align: right;\n    }\n</style>\n<table border=\"1\" class=\"dataframe\">\n  <thead>\n    <tr style=\"text-align: right;\">\n      <th></th>\n      <th>Rank</th>\n      <th>Title</th>\n      <th>Lifetime Gross</th>\n      <th>Release Date</th>\n    </tr>\n  </thead>\n  <tbody>\n    <tr>\n      <th>0</th>\n      <td>1</td>\n      <td>Avatar</td>\n      <td>$2,923,706,026</td>\n      <td>2009</td>\n    </tr>\n    <tr>\n      <th>1</th>\n      <td>2</td>\n      <td>Avengers: Endgame</td>\n      <td>$2,799,439,100</td>\n      <td>2019</td>\n    </tr>\n    <tr>\n      <th>2</th>\n      <td>3</td>\n      <td>Avatar: The Way of Water</td>\n      <td>$2,320,250,281</td>\n      <td>2022</td>\n    </tr>\n    <tr>\n      <th>3</th>\n      <td>4</td>\n      <td>Titanic</td>\n      <td>$2,264,743,305</td>\n      <td>1997</td>\n    </tr>\n    <tr>\n      <th>4</th>\n      <td>5</td>\n      <td>Star Wars: Episode VII - The Force Awakens</td>\n      <td>$2,071,310,218</td>\n      <td>2015</td>\n    </tr>\n    <tr>\n      <th>...</th>\n      <td>...</td>\n      <td>...</td>\n      <td>...</td>\n      <td>...</td>\n    </tr>\n    <tr>\n      <th>195</th>\n      <td>196</td>\n      <td>The Little Mermaid</td>\n      <td>$569,626,289</td>\n      <td>2023</td>\n    </tr>\n    <tr>\n      <th>196</th>\n      <td>197</td>\n      <td>Kong: Skull Island</td>\n      <td>$568,652,812</td>\n      <td>2017</td>\n    </tr>\n    <tr>\n      <th>197</th>\n      <td>198</td>\n      <td>Mission: Impossible - Dead Reckoning Part One</td>\n      <td>$567,535,383</td>\n      <td>2023</td>\n    </tr>\n    <tr>\n      <th>198</th>\n      <td>199</td>\n      <td>The Smurfs</td>\n      <td>$563,749,323</td>\n      <td>2011</td>\n    </tr>\n    <tr>\n      <th>199</th>\n      <td>200</td>\n      <td>Cars 2</td>\n      <td>$559,852,396</td>\n      <td>2011</td>\n    </tr>\n  </tbody>\n</table>\n<p>200 rows × 4 columns</p>\n</div>"
     },
     "execution_count": 21,
     "metadata": {},
     "output_type": "execute_result"
    }
   ],
   "source": [
    "df"
   ],
   "metadata": {
    "collapsed": false,
    "ExecuteTime": {
     "end_time": "2023-12-13T19:07:58.672392200Z",
     "start_time": "2023-12-13T19:07:58.430841500Z"
    }
   },
   "id": "de29a452bd7548f4"
  },
  {
   "cell_type": "code",
   "execution_count": 23,
   "outputs": [],
   "source": [
    "df.to_csv(\"moives data task4.csv\", index=False)"
   ],
   "metadata": {
    "collapsed": false,
    "ExecuteTime": {
     "end_time": "2023-12-13T19:09:46.164806600Z",
     "start_time": "2023-12-13T19:09:46.143704100Z"
    }
   },
   "id": "ee9d27a027d89643"
  },
  {
   "cell_type": "code",
   "execution_count": null,
   "outputs": [],
   "source": [],
   "metadata": {
    "collapsed": false
   },
   "id": "21d0db273109c5b3"
  }
 ],
 "metadata": {
  "kernelspec": {
   "display_name": "Python 3",
   "language": "python",
   "name": "python3"
  },
  "language_info": {
   "codemirror_mode": {
    "name": "ipython",
    "version": 2
   },
   "file_extension": ".py",
   "mimetype": "text/x-python",
   "name": "python",
   "nbconvert_exporter": "python",
   "pygments_lexer": "ipython2",
   "version": "2.7.6"
  }
 },
 "nbformat": 4,
 "nbformat_minor": 5
}
