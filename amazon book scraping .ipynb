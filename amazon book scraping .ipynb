{
 "cells": [
  {
   "cell_type": "code",
   "execution_count": null,
   "id": "initial_id",
   "metadata": {
    "collapsed": true
   },
   "outputs": [],
   "source": [
    "import pandas as pd\n",
    "from selenium import webdriver\n",
    "from selenium.webdriver.common.by import By\n",
    "import time\n"
   ]
  },
  {
   "cell_type": "markdown",
   "source": [],
   "metadata": {
    "collapsed": false
   },
   "id": "2e8676b5684083fa"
  },
  {
   "cell_type": "code",
   "execution_count": null,
   "outputs": [],
   "source": [
    "driver = webdriver.Chrome()"
   ],
   "metadata": {
    "collapsed": false
   },
   "id": "67f747ad639b33a5"
  },
  {
   "cell_type": "code",
   "execution_count": null,
   "outputs": [],
   "source": [
    "\n",
    "driver.get(\"https://www.amazon.in/gp/bestsellers/books/\")"
   ],
   "metadata": {
    "collapsed": false
   },
   "id": "952dd24cf656b776"
  },
  {
   "cell_type": "code",
   "execution_count": null,
   "outputs": [],
   "source": [
    "Height=0\n",
    "for i in range(13):\n",
    "    Height=Height+500\n",
    "    driver.execute_script(f\"window.scrollTo(0,{Height})\")\n",
    "    time.sleep(2)"
   ],
   "metadata": {
    "collapsed": false
   },
   "id": "c87199c8ccab6732"
  },
  {
   "cell_type": "code",
   "execution_count": null,
   "outputs": [],
   "source": [
    "# driver.execute_script(\"window.scrollTo(0, document.body.scrollHeight);\")"
   ],
   "metadata": {
    "collapsed": false
   },
   "id": "bba82a3b4d8ddd4a"
  },
  {
   "cell_type": "code",
   "execution_count": null,
   "outputs": [],
   "source": [
    "products=driver.find_elements(By.XPATH,\"//div[@class='_cDEzb_iveVideoWrapper_JJ34T']\")\n",
    "len(products)"
   ],
   "metadata": {
    "collapsed": false
   },
   "id": "ec27cf2eb61cece4"
  },
  {
   "cell_type": "code",
   "execution_count": null,
   "outputs": [],
   "source": [
    "products_title=[]\n",
    "product_price=[]"
   ],
   "metadata": {
    "collapsed": false
   },
   "id": "c54dc3a094c3ba96"
  },
  {
   "cell_type": "code",
   "execution_count": null,
   "outputs": [],
   "source": [
    "for i in range(len(products)):\n",
    "    if i > 0:\n",
    "        title_element = products[i].find_element(By.XPATH, \".//span/div[@class='_cDEzb_p13n-sc-css-line-clamp-1_1Fn1y']\")\n",
    "        price_element = products[i].find_element(By.XPATH, \".//span/span[@class='_cDEzb_p13n-sc-price_3mJ9Z']\")\n",
    "\n",
    "        products_title.append(title_element.text)\n",
    "        product_price.append(price_element.text)"
   ],
   "metadata": {
    "collapsed": false
   },
   "id": "e9f51d5666d068ca"
  },
  {
   "cell_type": "code",
   "execution_count": null,
   "outputs": [],
   "source": [
    "len(products_title)"
   ],
   "metadata": {
    "collapsed": false
   },
   "id": "a76adecd8ef9604b"
  },
  {
   "cell_type": "code",
   "execution_count": null,
   "outputs": [],
   "source": [
    "len(product_price)"
   ],
   "metadata": {
    "collapsed": false
   },
   "id": "5531ea6d21dc236c"
  },
  {
   "cell_type": "code",
   "execution_count": null,
   "outputs": [],
   "source": [
    "data={\n",
    "    'Book_title':products_title\n",
    "    ,'Book_price':product_price\n",
    "}\n"
   ],
   "metadata": {
    "collapsed": false
   },
   "id": "b323a6d97d9a8f8f"
  },
  {
   "cell_type": "code",
   "execution_count": null,
   "outputs": [],
   "source": [
    "df = pd.DataFrame(data)\n"
   ],
   "metadata": {
    "collapsed": false
   },
   "id": "5c4936f2dd083b"
  },
  {
   "cell_type": "code",
   "execution_count": null,
   "outputs": [],
   "source": [
    "df"
   ],
   "metadata": {
    "collapsed": false
   },
   "id": "5757b5f23a99e259"
  },
  {
   "cell_type": "code",
   "execution_count": null,
   "outputs": [],
   "source": [
    "df.to_csv(\"amazon books data.csv\", index=False, encoding='utf-8')"
   ],
   "metadata": {
    "collapsed": false
   },
   "id": "6cae804347ad6d8c"
  }
 ],
 "metadata": {
  "kernelspec": {
   "display_name": "Python 3",
   "language": "python",
   "name": "python3"
  },
  "language_info": {
   "codemirror_mode": {
    "name": "ipython",
    "version": 2
   },
   "file_extension": ".py",
   "mimetype": "text/x-python",
   "name": "python",
   "nbconvert_exporter": "python",
   "pygments_lexer": "ipython2",
   "version": "2.7.6"
  }
 },
 "nbformat": 4,
 "nbformat_minor": 5
}
