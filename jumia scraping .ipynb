{
 "cells": [
  {
   "cell_type": "code",
   "execution_count": 25,
   "id": "8be5efa5",
   "metadata": {
    "ExecuteTime": {
     "end_time": "2023-12-19T21:59:45.636305Z",
     "start_time": "2023-12-19T21:59:45.599875200Z"
    }
   },
   "outputs": [],
   "source": [
    "from selenium import webdriver\n",
    "from selenium.webdriver.common.by import By\n",
    "import urllib\n",
    "import requests\n",
    "import pandas as pd"
   ]
  },
  {
   "cell_type": "code",
   "execution_count": 26,
   "id": "91badaff",
   "metadata": {
    "ExecuteTime": {
     "end_time": "2023-12-19T21:59:48.829325500Z",
     "start_time": "2023-12-19T21:59:46.909138100Z"
    }
   },
   "outputs": [],
   "source": [
    "driver=webdriver.Chrome()"
   ]
  },
  {
   "cell_type": "code",
   "execution_count": 27,
   "id": "123b0ab1",
   "metadata": {
    "ExecuteTime": {
     "end_time": "2023-12-19T21:59:54.542950500Z",
     "start_time": "2023-12-19T21:59:52.054269600Z"
    }
   },
   "outputs": [],
   "source": [
    "page=\"https://www.jumia.com.eg/ar/womens-cardigans/\"\n",
    "driver.get(page)"
   ]
  },
  {
   "cell_type": "code",
   "execution_count": null,
   "id": "fb39d102",
   "metadata": {},
   "outputs": [],
   "source": []
  },
  {
   "cell_type": "code",
   "execution_count": 39,
   "id": "79f8565d",
   "metadata": {
    "ExecuteTime": {
     "end_time": "2023-12-19T22:12:26.882514600Z",
     "start_time": "2023-12-19T22:12:26.869548100Z"
    }
   },
   "outputs": [],
   "source": [
    "driver.execute_script(\"window.scrollTo(0, document.body.scrollHeight);\")"
   ]
  },
  {
   "cell_type": "code",
   "execution_count": 40,
   "outputs": [],
   "source": [
    "pages=[]\n",
    "for i in range(1,51):\n",
    "    ps=page+\"&page=\"+str(i)\n",
    "    pages.append(ps)   "
   ],
   "metadata": {
    "collapsed": false,
    "ExecuteTime": {
     "end_time": "2023-12-19T22:12:27.966264300Z",
     "start_time": "2023-12-19T22:12:27.950702900Z"
    }
   },
   "id": "c7a1a006"
  },
  {
   "cell_type": "code",
   "execution_count": 41,
   "outputs": [],
   "source": [
    "products=driver.find_elements(\"xpath\",\"//a[@class='core']\")"
   ],
   "metadata": {
    "collapsed": false,
    "ExecuteTime": {
     "end_time": "2023-12-19T22:12:28.840708200Z",
     "start_time": "2023-12-19T22:12:28.805806500Z"
    }
   },
   "id": "11fc8844166264d5"
  },
  {
   "cell_type": "code",
   "execution_count": 42,
   "outputs": [
    {
     "data": {
      "text/plain": "47"
     },
     "execution_count": 42,
     "metadata": {},
     "output_type": "execute_result"
    }
   ],
   "source": [
    "len(products)"
   ],
   "metadata": {
    "collapsed": false,
    "ExecuteTime": {
     "end_time": "2023-12-19T22:12:30.019106300Z",
     "start_time": "2023-12-19T22:12:29.999188400Z"
    }
   },
   "id": "c439e1a618501821"
  },
  {
   "cell_type": "code",
   "execution_count": 43,
   "id": "b51d84d9",
   "metadata": {
    "ExecuteTime": {
     "end_time": "2023-12-19T22:14:49.413537500Z",
     "start_time": "2023-12-19T22:12:31.135165900Z"
    }
   },
   "outputs": [],
   "source": [
    "product_name = []\n",
    "product_prices = []\n",
    "product_rate = []\n",
    "product_image = []\n",
    "product_image_link=[]\n",
    "\n",
    "for page in pages:\n",
    "    for product in products:\n",
    "       \n",
    "        try:\n",
    "            name=product.find_element(By.CLASS_NAME, \"name\").text\n",
    "        except:\n",
    "            name = \"none\"\n",
    "        try:\n",
    "            price = product.find_element(By.CLASS_NAME, \"prc\").text\n",
    "        except:\n",
    "            price = \"none\"\n",
    "        try:\n",
    "            rate = product.find_element(By.CLASS_NAME, \"prc\").text\n",
    "        except :\n",
    "            rate = \"none\"\n",
    "        \n",
    "        img_link=product.find_element(By.CLASS_NAME, \"img\").get_attribute('src')\n",
    "        #urllib.request.urlretrieve(img_link,name)\n",
    "        img=product.find_element(By.CLASS_NAME, \"img\")\n",
    "        \n",
    "        if name != \"none\" and price != \"none\" and rate != \"none\" :\n",
    "            product_name.append(name)\n",
    "            product_prices.append(price)\n",
    "            product_rate.append(rate.split(\"o\")[0])\n",
    "            product_image_link.append(img_link)\n",
    "            product_image.append(img)"
   ]
  },
  {
   "cell_type": "code",
   "execution_count": 45,
   "outputs": [
    {
     "data": {
      "text/plain": "2350"
     },
     "execution_count": 45,
     "metadata": {},
     "output_type": "execute_result"
    }
   ],
   "source": [
    "len (product_name)"
   ],
   "metadata": {
    "collapsed": false,
    "ExecuteTime": {
     "end_time": "2023-12-19T22:15:23.209020500Z",
     "start_time": "2023-12-19T22:15:23.189045100Z"
    }
   },
   "id": "b5dafc09eccae236"
  },
  {
   "cell_type": "code",
   "execution_count": 46,
   "outputs": [
    {
     "data": {
      "text/plain": "2350"
     },
     "execution_count": 46,
     "metadata": {},
     "output_type": "execute_result"
    }
   ],
   "source": [
    "len(product_rate)"
   ],
   "metadata": {
    "collapsed": false,
    "ExecuteTime": {
     "end_time": "2023-12-19T22:15:24.150402500Z",
     "start_time": "2023-12-19T22:15:24.127938100Z"
    }
   },
   "id": "f0fe53eaf4fc0d08"
  },
  {
   "cell_type": "code",
   "execution_count": 47,
   "outputs": [
    {
     "data": {
      "text/plain": "2350"
     },
     "execution_count": 47,
     "metadata": {},
     "output_type": "execute_result"
    }
   ],
   "source": [
    "len(product_prices)"
   ],
   "metadata": {
    "collapsed": false,
    "ExecuteTime": {
     "end_time": "2023-12-19T22:15:25.097956500Z",
     "start_time": "2023-12-19T22:15:25.087985700Z"
    }
   },
   "id": "a131795c61e9819e"
  },
  {
   "cell_type": "code",
   "execution_count": 48,
   "outputs": [
    {
     "data": {
      "text/plain": "2350"
     },
     "execution_count": 48,
     "metadata": {},
     "output_type": "execute_result"
    }
   ],
   "source": [
    "len(product_image_link)"
   ],
   "metadata": {
    "collapsed": false,
    "ExecuteTime": {
     "end_time": "2023-12-19T22:15:26.029132200Z",
     "start_time": "2023-12-19T22:15:25.998504600Z"
    }
   },
   "id": "562d5c019d2ae67c"
  },
  {
   "cell_type": "code",
   "execution_count": 49,
   "outputs": [
    {
     "data": {
      "text/plain": "2350"
     },
     "execution_count": 49,
     "metadata": {},
     "output_type": "execute_result"
    }
   ],
   "source": [
    "len(product_image)"
   ],
   "metadata": {
    "collapsed": false,
    "ExecuteTime": {
     "end_time": "2023-12-19T22:15:27.287999500Z",
     "start_time": "2023-12-19T22:15:27.265349Z"
    }
   },
   "id": "198d7760d2159c5c"
  },
  {
   "cell_type": "code",
   "execution_count": 50,
   "id": "f1ac57d8",
   "metadata": {
    "ExecuteTime": {
     "end_time": "2023-12-19T22:15:28.070421100Z",
     "start_time": "2023-12-19T22:15:28.042723900Z"
    }
   },
   "outputs": [
    {
     "data": {
      "text/plain": "                                           product_name product_prices  \\\n0                       فستان صك وكارديجان بأكمام واسعه    جنيه 450.00   \n1       General كارديجان حريمي قصير- كافيه -اكمام طويله    جنيه 360.00   \n2                     General كارديجان طويل-اسود وكافيه    جنيه 360.00   \n3     M Sou Slip On Reptile Pattern Camel Pattern Ch...    جنيه 249.00   \n4                                                                        \n...                                                 ...            ...   \n2345                Defacto Regular Fit V-Neck Cardigan    جنيه 358.81   \n2346  M Sou Stitched Tape Trims Over Fuchsia Practic...    جنيه 180.00   \n2347       Side Pockets Cardigan - Violet, White & Grey    جنيه 335.75   \n2348  Kady Side Pockets Full Buttoned Long Cardigan ...    جنيه 239.00   \n2349  Defacto Woman Tricot Oversize Fit V Neck Long ...    جنيه 594.00   \n\n     product_rate                                 product_image_link  \n0     جنيه 450.00  https://eg.jumia.is/unsafe/fit-in/300x300/filt...  \n1     جنيه 360.00  https://eg.jumia.is/unsafe/fit-in/300x300/filt...  \n2     جنيه 360.00  https://eg.jumia.is/unsafe/fit-in/300x300/filt...  \n3     جنيه 249.00  https://eg.jumia.is/unsafe/fit-in/300x300/filt...  \n4                  data:image/gif;base64,R0lGODlhAQABAIAAAAAAAP//...  \n...           ...                                                ...  \n2345  جنيه 358.81  https://eg.jumia.is/unsafe/fit-in/300x300/filt...  \n2346  جنيه 180.00  https://eg.jumia.is/unsafe/fit-in/300x300/filt...  \n2347  جنيه 335.75  https://eg.jumia.is/unsafe/fit-in/300x300/filt...  \n2348  جنيه 239.00  https://eg.jumia.is/unsafe/fit-in/300x300/filt...  \n2349  جنيه 594.00  https://eg.jumia.is/unsafe/fit-in/300x300/filt...  \n\n[2350 rows x 4 columns]",
      "text/html": "<div>\n<style scoped>\n    .dataframe tbody tr th:only-of-type {\n        vertical-align: middle;\n    }\n\n    .dataframe tbody tr th {\n        vertical-align: top;\n    }\n\n    .dataframe thead th {\n        text-align: right;\n    }\n</style>\n<table border=\"1\" class=\"dataframe\">\n  <thead>\n    <tr style=\"text-align: right;\">\n      <th></th>\n      <th>product_name</th>\n      <th>product_prices</th>\n      <th>product_rate</th>\n      <th>product_image_link</th>\n    </tr>\n  </thead>\n  <tbody>\n    <tr>\n      <th>0</th>\n      <td>فستان صك وكارديجان بأكمام واسعه</td>\n      <td>جنيه 450.00</td>\n      <td>جنيه 450.00</td>\n      <td>https://eg.jumia.is/unsafe/fit-in/300x300/filt...</td>\n    </tr>\n    <tr>\n      <th>1</th>\n      <td>General كارديجان حريمي قصير- كافيه -اكمام طويله</td>\n      <td>جنيه 360.00</td>\n      <td>جنيه 360.00</td>\n      <td>https://eg.jumia.is/unsafe/fit-in/300x300/filt...</td>\n    </tr>\n    <tr>\n      <th>2</th>\n      <td>General كارديجان طويل-اسود وكافيه</td>\n      <td>جنيه 360.00</td>\n      <td>جنيه 360.00</td>\n      <td>https://eg.jumia.is/unsafe/fit-in/300x300/filt...</td>\n    </tr>\n    <tr>\n      <th>3</th>\n      <td>M Sou Slip On Reptile Pattern Camel Pattern Ch...</td>\n      <td>جنيه 249.00</td>\n      <td>جنيه 249.00</td>\n      <td>https://eg.jumia.is/unsafe/fit-in/300x300/filt...</td>\n    </tr>\n    <tr>\n      <th>4</th>\n      <td></td>\n      <td></td>\n      <td></td>\n      <td>data:image/gif;base64,R0lGODlhAQABAIAAAAAAAP//...</td>\n    </tr>\n    <tr>\n      <th>...</th>\n      <td>...</td>\n      <td>...</td>\n      <td>...</td>\n      <td>...</td>\n    </tr>\n    <tr>\n      <th>2345</th>\n      <td>Defacto Regular Fit V-Neck Cardigan</td>\n      <td>جنيه 358.81</td>\n      <td>جنيه 358.81</td>\n      <td>https://eg.jumia.is/unsafe/fit-in/300x300/filt...</td>\n    </tr>\n    <tr>\n      <th>2346</th>\n      <td>M Sou Stitched Tape Trims Over Fuchsia Practic...</td>\n      <td>جنيه 180.00</td>\n      <td>جنيه 180.00</td>\n      <td>https://eg.jumia.is/unsafe/fit-in/300x300/filt...</td>\n    </tr>\n    <tr>\n      <th>2347</th>\n      <td>Side Pockets Cardigan - Violet, White &amp; Grey</td>\n      <td>جنيه 335.75</td>\n      <td>جنيه 335.75</td>\n      <td>https://eg.jumia.is/unsafe/fit-in/300x300/filt...</td>\n    </tr>\n    <tr>\n      <th>2348</th>\n      <td>Kady Side Pockets Full Buttoned Long Cardigan ...</td>\n      <td>جنيه 239.00</td>\n      <td>جنيه 239.00</td>\n      <td>https://eg.jumia.is/unsafe/fit-in/300x300/filt...</td>\n    </tr>\n    <tr>\n      <th>2349</th>\n      <td>Defacto Woman Tricot Oversize Fit V Neck Long ...</td>\n      <td>جنيه 594.00</td>\n      <td>جنيه 594.00</td>\n      <td>https://eg.jumia.is/unsafe/fit-in/300x300/filt...</td>\n    </tr>\n  </tbody>\n</table>\n<p>2350 rows × 4 columns</p>\n</div>"
     },
     "execution_count": 50,
     "metadata": {},
     "output_type": "execute_result"
    }
   ],
   "source": [
    "data={\n",
    "    'product_name':product_name\n",
    "    ,'product_prices':product_prices\n",
    "    ,'product_rate':product_rate\n",
    "    ,'product_image_link':product_image_link\n",
    "}\n",
    "\n",
    "df=pd.DataFrame(data)\n",
    "df"
   ]
  },
  {
   "cell_type": "code",
   "execution_count": 23,
   "id": "a9480199",
   "metadata": {
    "ExecuteTime": {
     "end_time": "2023-12-19T20:50:33.589730200Z",
     "start_time": "2023-12-19T20:50:33.562684700Z"
    }
   },
   "outputs": [],
   "source": [
    "df.to_csv(\"jumia_products_task8.csv\",encoding='utf-8')"
   ]
  },
  {
   "cell_type": "code",
   "execution_count": 52,
   "outputs": [
    {
     "ename": "NameError",
     "evalue": "name 'requests' is not defined",
     "output_type": "error",
     "traceback": [
      "\u001B[1;31m---------------------------------------------------------------------------\u001B[0m",
      "\u001B[1;31mNameError\u001B[0m                                 Traceback (most recent call last)",
      "\u001B[1;32m<ipython-input-52-65de7b17b9af>\u001B[0m in \u001B[0;36m<module>\u001B[1;34m\u001B[0m\n\u001B[0;32m      1\u001B[0m \u001B[1;32mfor\u001B[0m \u001B[0mj\u001B[0m\u001B[1;33m,\u001B[0m\u001B[0murl\u001B[0m \u001B[1;32min\u001B[0m \u001B[0menumerate\u001B[0m\u001B[1;33m(\u001B[0m\u001B[0mproduct_image_link\u001B[0m\u001B[1;33m)\u001B[0m\u001B[1;33m:\u001B[0m\u001B[1;33m\u001B[0m\u001B[0m\n\u001B[1;32m----> 2\u001B[1;33m     \u001B[0mresponse\u001B[0m\u001B[1;33m=\u001B[0m\u001B[0mrequests\u001B[0m\u001B[1;33m.\u001B[0m\u001B[0mget\u001B[0m\u001B[1;33m(\u001B[0m\u001B[0murl\u001B[0m\u001B[1;33m,\u001B[0m\u001B[0mstream\u001B[0m\u001B[1;33m=\u001B[0m\u001B[1;32mTrue\u001B[0m\u001B[1;33m)\u001B[0m\u001B[1;33m\u001B[0m\u001B[0m\n\u001B[0m\u001B[0;32m      3\u001B[0m     \u001B[1;32mwith\u001B[0m \u001B[0mopen\u001B[0m\u001B[1;33m(\u001B[0m\u001B[1;34mf\"img{j+1}.jpg\"\u001B[0m\u001B[1;33m,\u001B[0m\u001B[1;34m'wb'\u001B[0m\u001B[1;33m)\u001B[0m \u001B[1;32mas\u001B[0m \u001B[0mimg\u001B[0m\u001B[1;33m:\u001B[0m\u001B[1;33m\u001B[0m\u001B[0m\n\u001B[0;32m      4\u001B[0m             \u001B[1;32mfor\u001B[0m \u001B[0mi\u001B[0m \u001B[1;32min\u001B[0m \u001B[0mresponse\u001B[0m\u001B[1;33m.\u001B[0m\u001B[0miter_content\u001B[0m\u001B[1;33m(\u001B[0m\u001B[0mchunk_size\u001B[0m\u001B[1;33m=\u001B[0m\u001B[1;36m128\u001B[0m\u001B[1;33m)\u001B[0m\u001B[1;33m:\u001B[0m\u001B[1;33m\u001B[0m\u001B[0m\n\u001B[0;32m      5\u001B[0m                     \u001B[0mimg\u001B[0m\u001B[1;33m.\u001B[0m\u001B[0mwrite\u001B[0m\u001B[1;33m(\u001B[0m\u001B[0mi\u001B[0m\u001B[1;33m)\u001B[0m\u001B[1;33m\u001B[0m\u001B[0m\n",
      "\u001B[1;31mNameError\u001B[0m: name 'requests' is not defined"
     ]
    }
   ],
   "source": [
    "for j,url in enumerate(product_image_link):\n",
    "    response=requests.get(url,stream=True)\n",
    "    with open(f\"img{j+1}.jpg\",'wb') as img:\n",
    "            for i in response.iter_content(chunk_size=128):\n",
    "                    img.write(i)"
   ],
   "metadata": {
    "collapsed": false,
    "ExecuteTime": {
     "end_time": "2023-12-19T22:15:36.456574Z",
     "start_time": "2023-12-19T22:15:36.434661700Z"
    }
   },
   "id": "783e4d54085e6693"
  },
  {
   "cell_type": "code",
   "execution_count": null,
   "outputs": [],
   "source": [],
   "metadata": {
    "collapsed": false
   },
   "id": "584a6f997d9680b5"
  }
 ],
 "metadata": {
  "kernelspec": {
   "display_name": "Python 3 (ipykernel)",
   "language": "python",
   "name": "python3"
  },
  "language_info": {
   "codemirror_mode": {
    "name": "ipython",
    "version": 3
   },
   "file_extension": ".py",
   "mimetype": "text/x-python",
   "name": "python",
   "nbconvert_exporter": "python",
   "pygments_lexer": "ipython3",
   "version": "3.11.5"
  }
 },
 "nbformat": 4,
 "nbformat_minor": 5
}
